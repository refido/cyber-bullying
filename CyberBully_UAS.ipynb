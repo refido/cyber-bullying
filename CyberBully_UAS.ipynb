{
  "nbformat": 4,
  "nbformat_minor": 0,
  "metadata": {
    "colab": {
      "provenance": [],
      "authorship_tag": "ABX9TyOy1ZFoq8GppbvGrPN+1w80",
      "include_colab_link": true
    },
    "kernelspec": {
      "name": "python3",
      "display_name": "Python 3"
    },
    "language_info": {
      "name": "python"
    }
  },
  "cells": [
    {
      "cell_type": "markdown",
      "metadata": {
        "id": "view-in-github",
        "colab_type": "text"
      },
      "source": [
        "<a href=\"https://colab.research.google.com/github/refido/cyber-bullying/blob/main/CyberBully_UAS.ipynb\" target=\"_parent\"><img src=\"https://colab.research.google.com/assets/colab-badge.svg\" alt=\"Open In Colab\"/></a>"
      ]
    },
    {
      "cell_type": "markdown",
      "source": [
        "# **UAS**\n",
        "\n",
        "**Identitas Kelompok**\n",
        "\n",
        "*   Muhammad Daffa' Athallah Rifqi / 2241727025\n",
        "*   Osy Krisdayanti / 2241727027\n",
        "*   Refido Berliano Hartawan / 2241727028\n",
        "\n",
        "\n",
        "\n",
        "**Kelas : TI-4J**"
      ],
      "metadata": {
        "id": "oxg37t9RibpV"
      }
    },
    {
      "cell_type": "code",
      "source": [],
      "metadata": {
        "id": "YzrHP5mJiquH"
      },
      "execution_count": null,
      "outputs": []
    }
  ]
}